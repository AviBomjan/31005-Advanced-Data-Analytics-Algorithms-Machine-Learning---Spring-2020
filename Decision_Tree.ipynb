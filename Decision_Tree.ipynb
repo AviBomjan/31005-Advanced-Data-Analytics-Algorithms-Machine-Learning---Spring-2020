{
  "nbformat": 4,
  "nbformat_minor": 0,
  "metadata": {
    "colab": {
      "name": "Decision Tree.ipynb",
      "provenance": []
    },
    "kernelspec": {
      "name": "python3",
      "display_name": "Python 3"
    }
  },
  "cells": [
    {
      "cell_type": "markdown",
      "metadata": {
        "id": "6yPW6N7rgElV"
      },
      "source": [
        "Section 1: Installing the Packages"
      ]
    },
    {
      "cell_type": "code",
      "metadata": {
        "id": "4Pmb19uLesO3"
      },
      "source": [
        "import numpy as np\n",
        "import pandas as pd\n",
        "from collections import Counter\n",
        "import matplotlib.pyplot as plot\n",
        "import seaborn as sea\n",
        "from sklearn.model_selection import train_test_split\n",
        "from sklearn import datasets\n",
        "from sklearn import preprocessing"
      ],
      "execution_count": 10,
      "outputs": []
    },
    {
      "cell_type": "markdown",
      "metadata": {
        "id": "B5EUM2sEgJVq"
      },
      "source": [
        "Section 2: Data preprocessing"
      ]
    },
    {
      "cell_type": "code",
      "metadata": {
        "id": "hwOa5qFygckN"
      },
      "source": [
        "iris = datasets.load_iris()\n",
        "X = iris.data\n",
        "y = iris.target"
      ],
      "execution_count": 11,
      "outputs": []
    },
    {
      "cell_type": "code",
      "metadata": {
        "id": "yJ58dg94g-A8"
      },
      "source": [
        "X, Y = np.array(X), np.array(y)\n",
        "X_train, X_test, y_train, y_test = train_test_split(X, y, test_size=0.2, random_state = 1)"
      ],
      "execution_count": 12,
      "outputs": []
    },
    {
      "cell_type": "markdown",
      "metadata": {
        "id": "BaP9-AM-hcym"
      },
      "source": [
        "Section 3: Entropy"
      ]
    },
    {
      "cell_type": "code",
      "metadata": {
        "id": "hRus4dudevK3"
      },
      "source": [
        "def entropy(y):\n",
        "    hist = np.bincount(y)\n",
        "    ps = hist / len(y)\n",
        "    return -np.sum([p * np.log2(p) for p in ps if p > 0])"
      ],
      "execution_count": 13,
      "outputs": []
    },
    {
      "cell_type": "markdown",
      "metadata": {
        "id": "9XiKBSTphviu"
      },
      "source": [
        "Section 4: Class Node"
      ]
    },
    {
      "cell_type": "code",
      "metadata": {
        "id": "jAuFvuQpexey"
      },
      "source": [
        "class Node:\n",
        "    def __init__(self, feature=None, threshold=None, left=None, right=None, *, value=None):\n",
        "        self.feature = feature\n",
        "        self.threshold = threshold\n",
        "        self.left = left\n",
        "        self.right = right\n",
        "        self.value = value\n",
        "    def is_leaf_node(self):\n",
        "        return self.value is not None"
      ],
      "execution_count": 14,
      "outputs": []
    },
    {
      "cell_type": "markdown",
      "metadata": {
        "id": "xhDU6kvKhTpI"
      },
      "source": [
        "Section 5: Impementing the DecisionTree"
      ]
    },
    {
      "cell_type": "code",
      "metadata": {
        "id": "PO_uLl8Me0VR"
      },
      "source": [
        "class DecisionTree:\n",
        "  def __init__(self, min_samples_split=2, max_depth=100, n_feats=None):\n",
        "    self.min_samples_split = min_samples_split\n",
        "    self.max_depth = max_depth\n",
        "    self.n_feats = n_feats\n",
        "    self.root = None\n",
        "\n",
        "  def fit(self, X, y):\n",
        "    #tree growth\n",
        "    self.n_feats = X.shape[1] if not self.n_feats else min(self.n_feats, X.shape[1])\n",
        "    self.root = self._grow_tree(X, y)\n",
        "\n",
        "  def _grow_tree(self, X, y, depth=0):\n",
        "    n_samples, n_features = X.shape\n",
        "    n_labels = len(np.unique(y))\n",
        "\n",
        "    #stopping criteria\n",
        "    if (depth >= self.max_depth\n",
        "        or n_labels == 1\n",
        "        or n_samples < self.min_samples_split):\n",
        "        leaf_value = self._most_common_label(y)\n",
        "        return Node(value =leaf_value)\n",
        "       \n",
        "    feat_idxs = np.random.choice(n_features, self.n_feats, replace=False)\n",
        "\n",
        "    #greedy search\n",
        "    best_feat, best_thresh = self._best_criteria(X ,y, feat_idxs)\n",
        "    left_idxs, right_idxs = self._split(X[:, best_feat], best_thresh)\n",
        "    left = self._grow_tree(X[left_idxs, :], y[left_idxs], depth+1)\n",
        "    right=self._grow_tree(X[right_idxs, :], y[right_idxs], depth+1)\n",
        "    return Node(best_feat, best_thresh, left, right)\n",
        "\n",
        "  def _best_criteria(self, X, y, feat_idxs):\n",
        "    best_gain = -1\n",
        "    split_idx, split_thresh = None, None\n",
        "    for feat_idx in feat_idxs:\n",
        "      X_column = X[:, feat_idx]\n",
        "      thresholds = np.unique(X_column)\n",
        "      for threshold in thresholds:\n",
        "        gain = self._information_gain(y, X_column, threshold)\n",
        "\n",
        "        if gain > best_gain:\n",
        "          best_gain = gain\n",
        "          split_idx = feat_idx\n",
        "          split_thresh = threshold\n",
        "    return split_idx, split_thresh\n",
        "\n",
        "  def _information_gain(self, y, X_column, split_thresh):\n",
        "    #parent entropy\n",
        "    parent_entropy = entropy(y)\n",
        "\n",
        "    #split\n",
        "    left_idxs, right_idxs = self._split(X_column, split_thresh)\n",
        "\n",
        "    if len(left_idxs) == 0 or len(right_idxs) == 0:\n",
        "      return 0\n",
        "    #weighted child entropy\n",
        "    n = len(y)\n",
        "    n_l, n_r = len(left_idxs), len(right_idxs)\n",
        "    e_l, e_r = entropy(y[left_idxs]), entropy(y[right_idxs])\n",
        "    child_entropy = (n_l/n) * e_l * (n_r/n) * e_r\n",
        "\n",
        "    #info gain\n",
        "    ig = parent_entropy - child_entropy\n",
        "    return ig\n",
        "   \n",
        "  def _split(self, X_column, split_thresh):\n",
        "    left_idxs = np.argwhere(X_column <= split_thresh).flatten()\n",
        "    right_idxs = np.argwhere(X_column > split_thresh).flatten()\n",
        "    return left_idxs, right_idxs\n",
        "\n",
        "  def predict(self, X):\n",
        "    #traversing and predicting\n",
        "    return np.array([self._traverse_tree(x, self.root) for x in X])\n",
        "  \n",
        "  def _traverse_tree(self, x, node):\n",
        "    if node.is_leaf_node():\n",
        "      return node.value\n",
        "\n",
        "    if x[node.feature] <= node.threshold:\n",
        "      return self._traverse_tree(x, node.left)\n",
        "\n",
        "    return self._traverse_tree(x, node.right)\n",
        "  \n",
        "  def _most_common_label(self, y):\n",
        "    counter = Counter(y)\n",
        "    most_common = counter.most_common(1)[0][0]\n",
        "    return most_common"
      ],
      "execution_count": 15,
      "outputs": []
    },
    {
      "cell_type": "markdown",
      "metadata": {
        "id": "FHw13SCU-VC8"
      },
      "source": [
        "Section 7: Size"
      ]
    },
    {
      "cell_type": "code",
      "metadata": {
        "id": "_Bv_Ji2e8gGv",
        "outputId": "33962a4f-bd17-4be4-c9be-a2fbb770cd8e",
        "colab": {
          "base_uri": "https://localhost:8080/",
          "height": 85
        }
      },
      "source": [
        "print(X_train.shape)\n",
        "print(y_train.shape)\n",
        "print(X_test.shape)\n",
        "print(y_test.shape)"
      ],
      "execution_count": 16,
      "outputs": [
        {
          "output_type": "stream",
          "text": [
            "(120, 4)\n",
            "(120,)\n",
            "(30, 4)\n",
            "(30,)\n"
          ],
          "name": "stdout"
        }
      ]
    },
    {
      "cell_type": "markdown",
      "metadata": {
        "id": "d7Q4koMg3EMS"
      },
      "source": [
        "Section 8: Accuracy "
      ]
    },
    {
      "cell_type": "code",
      "metadata": {
        "id": "shai9nURiEtF"
      },
      "source": [
        "def accuracy(y_true, y_pred):\n",
        "  accuracy = np.sum(y_true == y_pred) / len(y_true)\n",
        "  return accuracy"
      ],
      "execution_count": 17,
      "outputs": []
    },
    {
      "cell_type": "code",
      "metadata": {
        "id": "djqlqbkbiITe",
        "outputId": "28c87729-9e92-4255-f4d2-638fbbd83ca4",
        "colab": {
          "base_uri": "https://localhost:8080/",
          "height": 34
        }
      },
      "source": [
        "clf = DecisionTree(max_depth=10)\n",
        "clf.fit(X_train, y_train)\n",
        "\n",
        "y_pred = clf.predict(X_test)\n",
        "acc = accuracy(y_test, y_pred)\n",
        "print(acc)"
      ],
      "execution_count": 18,
      "outputs": [
        {
          "output_type": "stream",
          "text": [
            "0.6\n"
          ],
          "name": "stdout"
        }
      ]
    }
  ]
}